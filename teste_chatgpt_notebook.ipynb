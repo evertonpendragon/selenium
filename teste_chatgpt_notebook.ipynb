{
 "cells": [
  {
   "cell_type": "code",
   "execution_count": 1,
   "metadata": {},
   "outputs": [],
   "source": [
    "from selenium import webdriver\n",
    "from selenium.webdriver.common.by import By\n",
    "from selenium.webdriver.common.keys import Keys\n",
    "import time\n"
   ]
  },
  {
   "cell_type": "code",
   "execution_count": 2,
   "metadata": {},
   "outputs": [],
   "source": [
    "options = webdriver.ChromeOptions()\n",
    "options.add_experimental_option(\"debuggerAddress\", \"127.0.0.1:9222\")  # Porta do debugger\n"
   ]
  },
  {
   "cell_type": "code",
   "execution_count": 3,
   "metadata": {},
   "outputs": [],
   "source": [
    "\n",
    "driver = webdriver.Chrome(options=options)"
   ]
  },
  {
   "cell_type": "code",
   "execution_count": 7,
   "metadata": {},
   "outputs": [
    {
     "data": {
      "text/plain": [
       "'ChatGPT'"
      ]
     },
     "execution_count": 7,
     "metadata": {},
     "output_type": "execute_result"
    }
   ],
   "source": [
    " driver.title "
   ]
  },
  {
   "cell_type": "code",
   "execution_count": null,
   "metadata": {},
   "outputs": [],
   "source": []
  },
  {
   "cell_type": "code",
   "execution_count": 8,
   "metadata": {},
   "outputs": [],
   "source": [
    "prompt_box = driver.find_element(By.ID, \"prompt-textarea\")"
   ]
  },
  {
   "cell_type": "code",
   "execution_count": 9,
   "metadata": {},
   "outputs": [],
   "source": [
    "prompt_box.send_keys(\"você é um especialista em narraçção de audiobooks. Qualquer texto enviado aqui será transcrito na íntegra, sem qualquer alteração ou adição. Também não adicione mensagens na resposta.\")\n",
    "time.sleep(20)\n",
    "prompt_box.send_keys(Keys.RETURN)"
   ]
  },
  {
   "cell_type": "code",
   "execution_count": 11,
   "metadata": {},
   "outputs": [],
   "source": [
    "prompt_box.send_keys(\" A FORÇA DOS SÍMBOLOS   O setor médico quatro do acampamento da Ducentésima e Décima Quarta Cadian em Thrax III estava incomumente quieto. Longas fileiras de camas estavam dispostas em linhas exatas, pacientes mutilados cobertos com lençóis brancos impecáveis. Algumas delas estavam vazias, aguardando o inevitável dilúvio de feridos. O bip e o chiado de vários dispositivos médicos forneciam uma trilha sonora calmante e rítmica, pontuada apenas pelo ocasional grito de dor ou histeria. Os médicos se moviam pelas fileiras com um equilíbrio igual de pressa e calma neste, o relativo silêncio antes da tempestade.   Cada setor médico em cada acampamento que Cathris Korr havia visto tinha esse mesmo layout exato, e a consistência a acalmava, mesmo em meio aos feridos e moribundos. Embora ela tivesse sido recém-transplantada para a Ducentésima e Décima Quarta, sabia o que fazer sem instruções. Independentemente de patente ou mundo natal, a equipe do setor médico sempre acolhia ajuda, desde que você fosse competente, e ela havia aprimorado suas habilidades ao longo de anos de guerra na Septuagésima Terceira Valhallan.   O setor estava com oitenta e nove por cento de capacidade, e as ordens do comando eram para devolver o maior número possível de soldados às linhas de frente em preparação para o avanço em território orque. Ela vinha avaliando as altas desde que sua companhia chegou a Thrax III há alguns dias.   Ela consultou seu data-slate e se dirigiu para a próxima cama. Masculino, idade padrão terrana vinte e dois. Braço preso sob um dos monstruosos transportes orques. De acordo com seu auto-relato, ele havia cortado o membro despedaçado, enfiado uma granada krak nas esteiras da máquina de guerra e rastejado para a segurança.   'Eu sou a Médica Cathris Korr da Ducentésima e Décima Quarta Cadian,' ela disse. 'Soldado Sandu?'   'Sou eu,' ele respondeu.   'Hoje eu realizarei sua avaliação pré-alta. Esta avaliação determinará se você retornará a suas funções completas ou será enviado para uma instalação designada do Adeptus Mechanicus para a adaptação de um braço augmético. Se você não se qualificar para a alta neste momento, será reavaliado amanhã. Vou começar a avaliação agora,' ela disse, lendo do roteiro fornecido. Era mais fácil do que tropeçar em palavras que não queria dizer.   'Voltar para o campo?' ele perguntou, seu rosto empalidecendo. 'Tão cedo?'   'Possivelmente.'   Os lábios dele ficaram ainda mais pálidos enquanto ele assentia. Os pacientes tendiam a se encaixar em uma das poucas categorias, e ele era do tipo silencioso e estoico. Mas o medo emanava dele em ondas, apesar de seus esforços para suprimir isso.   Ela puxou seu diagnostor do cinto e pressionou seu polegar na runa de ativação. O scanner especializado fez um diagnóstico rápido, mas todo o conhecimento do mundo não poderia salvar um soldado sufocando enquanto o sangue preenchia seus pulmões ou se derramava no campo de batalha. Apenas um médico habilidoso poderia pegar esses dados e usá-los para salvar uma vida.   Os resultados apareceram no monitor. Tudo dentro dos níveis de tolerância. Ela fez uma anotação para implementar alguns ajustes menores na medicação daqui para frente.   'Bom,' ela disse, clipando o dispositivo de volta no lugar. 'Agora vamos dar uma olhada nesse braço.'   Ele seguiu suas instruções, levantando o toco do membro para que ela pudesse remover a cobertura sanitária. A ferida provou ser uma bagunça irregular, um pedaço truncado de osso saindo de sob flaps úmidos de carne aparada. Mas sem sinais que indicassem infecção.   O soldado Sandu olhou fixamente para o teto. Gotículas de suor grudavam em seu lábio superior, mas ele permaneceu estoico enquanto ela começava o doloroso processo de limpar a ferida.   'Você já lutou contra um orque?' ele disparou.  \")\n",
    "time.sleep(20)\n",
    "prompt_box.send_keys(Keys.RETURN)"
   ]
  },
  {
   "cell_type": "code",
   "execution_count": 12,
   "metadata": {},
   "outputs": [],
   "source": [
    "driver.quit()"
   ]
  }
 ],
 "metadata": {
  "kernelspec": {
   "display_name": ".venv",
   "language": "python",
   "name": "python3"
  },
  "language_info": {
   "codemirror_mode": {
    "name": "ipython",
    "version": 3
   },
   "file_extension": ".py",
   "mimetype": "text/x-python",
   "name": "python",
   "nbconvert_exporter": "python",
   "pygments_lexer": "ipython3",
   "version": "3.13.1"
  }
 },
 "nbformat": 4,
 "nbformat_minor": 2
}
